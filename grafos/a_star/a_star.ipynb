{
 "cells": [
  {
   "cell_type": "code",
   "execution_count": 48,
   "metadata": {},
   "outputs": [],
   "source": [
    "class Node:\n",
    "    def __init__(self, tag, D, H, x, y):\n",
    "        self.tag = tag\n",
    "        self.D = D\n",
    "        self.H = H\n",
    "        self.x = x\n",
    "        self.y = y\n",
    "        self.parent = None"
   ]
  },
  {
   "cell_type": "code",
   "execution_count": 49,
   "metadata": {},
   "outputs": [],
   "source": [
    "def calculate_heuristic(start_node, end_node):\n",
    "    return ((start_node.x - end_node.x) ** 2 + (start_node.y - end_node.y) ** 2) ** 0.5"
   ]
  },
  {
   "cell_type": "code",
   "execution_count": 96,
   "metadata": {},
   "outputs": [],
   "source": [
    "def a_star(graph, Vi: int, Vf: int, nodes: list[Node]):\n",
    "    priority_queue = []\n",
    "    visited = [False] * len(graph)\n",
    "\n",
    "    visited[Vi] = True\n",
    "\n",
    "    nodes[Vi].D = 0\n",
    "    nodes[Vi].H = calculate_heuristic(nodes[Vi], nodes[Vf])\n",
    "    \n",
    "    heapq.heappush(priority_queue, (nodes[Vi].D + nodes[Vi].H, nodes[Vi]))\n",
    "\n",
    "    while priority_queue:\n",
    "        current_node = heapq.heappop(priority_queue)[1]\n",
    "\n",
    "        if current_node.tag == Vf:\n",
    "            path = []\n",
    "            while current_node:\n",
    "                path.insert(0, current_node.tag)\n",
    "                current_node = current_node.parent\n",
    "            return path\n",
    "\n",
    "        visited[current_node.tag] = True\n",
    "\n",
    "        for i, neighbor_cost in enumerate(graph[current_node.tag]):\n",
    "            if visited[i] == False and neighbor_cost > 0:\n",
    "                # costo acumulado del peso de las aristas\n",
    "                D_cost = current_node.D + neighbor_cost\n",
    "\n",
    "                # calcular costo de la heuristica\n",
    "                H_cost = calculate_heuristic(current_node, nodes[Vf])\n",
    "\n",
    "                F_cost = D_cost + H_cost\n",
    "\n",
    "                nodes[i].D = D_cost\n",
    "                nodes[i].H = H_cost\n",
    "\n",
    "                nodes[i].parent = current_node\n",
    "\n",
    "                heapq.heappush(priority_queue, (F_cost, nodes[i]))\n",
    "\n",
    "    return []"
   ]
  },
  {
   "cell_type": "code",
   "execution_count": null,
   "metadata": {},
   "outputs": [],
   "source": [
    "nodes = [\n",
    "    Node(tag=0, D=0, H=0, x=1, y=2),\n",
    "    Node(tag=1, D=0, H=0, x=3, y=4),\n",
    "    Node(tag=2, D=0, H=0, x=5, y=6),\n",
    "    Node(tag=3, D=0, H=0, x=7, y=8),\n",
    "    Node(tag=4, D=0, H=0, x=9, y=10),\n",
    "    Node(tag=5, D=0, H=0, x=11, y=12),\n",
    "    Node(tag=6, D=0, H=0, x=13, y=14),\n",
    "    Node(tag=7, D=0, H=0, x=15, y=16),\n",
    "    Node(tag=8, D=0, H=0, x=17, y=18),\n",
    "    Node(tag=9, D=0, H=0, x=19, y=20)\n",
    "]"
   ]
  },
  {
   "cell_type": "code",
   "execution_count": 94,
   "metadata": {},
   "outputs": [],
   "source": [
    "graph = [\n",
    "    [0, 0, 3],\n",
    "    [1, 0, 12],\n",
    "    [3, 1, 0]\n",
    "]"
   ]
  },
  {
   "cell_type": "code",
   "execution_count": 97,
   "metadata": {},
   "outputs": [
    {
     "data": {
      "text/plain": [
       "[0, 2, 1]"
      ]
     },
     "execution_count": 97,
     "metadata": {},
     "output_type": "execute_result"
    }
   ],
   "source": [
    "a_star(graph, 0, 1, nodes)"
   ]
  }
 ],
 "metadata": {
  "kernelspec": {
   "display_name": "Python 3",
   "language": "python",
   "name": "python3"
  },
  "language_info": {
   "codemirror_mode": {
    "name": "ipython",
    "version": 3
   },
   "file_extension": ".py",
   "mimetype": "text/x-python",
   "name": "python",
   "nbconvert_exporter": "python",
   "pygments_lexer": "ipython3",
   "version": "3.10.2"
  }
 },
 "nbformat": 4,
 "nbformat_minor": 2
}
