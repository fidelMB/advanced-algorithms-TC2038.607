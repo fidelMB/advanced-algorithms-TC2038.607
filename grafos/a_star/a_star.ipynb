{
 "cells": [
  {
   "cell_type": "markdown",
   "metadata": {},
   "source": [
    "# Dependencias"
   ]
  },
  {
   "cell_type": "code",
   "execution_count": 163,
   "metadata": {},
   "outputs": [],
   "source": [
    "import heapq"
   ]
  },
  {
   "cell_type": "markdown",
   "metadata": {},
   "source": [
    "# Declaración de clases y funciones"
   ]
  },
  {
   "cell_type": "code",
   "execution_count": 164,
   "metadata": {},
   "outputs": [],
   "source": [
    "class Node:\n",
    "    def __init__(self, tag, D, H, x, y):\n",
    "        self.tag = tag\n",
    "        self.D = D\n",
    "        self.H = H\n",
    "        self.x = x\n",
    "        self.y = y\n",
    "        self.parent = None"
   ]
  },
  {
   "cell_type": "code",
   "execution_count": 165,
   "metadata": {},
   "outputs": [],
   "source": [
    "def calculate_heuristic(start_node, end_node):\n",
    "    return ((start_node.x - end_node.x) ** 2 + (start_node.y - end_node.y) ** 2) ** 0.5"
   ]
  },
  {
   "cell_type": "code",
   "execution_count": 166,
   "metadata": {},
   "outputs": [],
   "source": [
    "def a_star(graph, Vi: int, Vf: int, nodes: list[Node]):\n",
    "    priority_queue = []\n",
    "    visited = [False] * len(graph)\n",
    "\n",
    "\n",
    "    nodes[Vi].D = 0\n",
    "    nodes[Vi].H = calculate_heuristic(nodes[Vi], nodes[Vf])\n",
    "    \n",
    "    heapq.heappush(priority_queue, (nodes[Vi].D + nodes[Vi].H, nodes[Vi]))\n",
    "\n",
    "    while priority_queue:\n",
    "        # sale el nodo con el menor costo de F() = D() + H()\n",
    "        current_node = heapq.heappop(priority_queue)[1]\n",
    "\n",
    "        if visited[current_node.tag] == True:\n",
    "            continue\n",
    "\n",
    "        visited[current_node.tag] = True\n",
    "\n",
    "        # si el nodo actual es el de menor costo se regresa el path que si siguió para llegar a él\n",
    "        if current_node.tag == Vf:\n",
    "            path = []\n",
    "            while current_node:\n",
    "                path.insert(0, current_node.tag)\n",
    "                current_node = current_node.parent\n",
    "  \n",
    "            adjacency_matrix = [[0] * len(graph) for _ in range(len(graph))]\n",
    "\n",
    "            for i in range(len(path) - 1):\n",
    "                adjacency_matrix[path[i]][path[i + 1]] = graph[path[i]][path[i + 1]]\n",
    "                \n",
    "            return adjacency_matrix\n",
    "\n",
    "        for i, neighbor_cost in enumerate(graph[current_node.tag]):\n",
    "            if visited[i] == False and neighbor_cost > 0:\n",
    "                # costo acumulado del peso de las aristas\n",
    "                D_cost = current_node.D + neighbor_cost\n",
    "\n",
    "                # calcular costo de la heuristica\n",
    "                H_cost = calculate_heuristic(nodes[i], nodes[Vf])\n",
    "\n",
    "\n",
    "                F_cost = D_cost + H_cost\n",
    "\n",
    "                if D_cost < nodes[i].D:\n",
    "                    # actualizar el costo de D y H\n",
    "                    nodes[i].D = D_cost\n",
    "                    nodes[i].H = H_cost\n",
    "\n",
    "                    # actualizar el padre del nodo\n",
    "                    nodes[i].parent = current_node\n",
    "\n",
    "                    # añadir una copia del nodo al priority queue\n",
    "                    heapq.heappush(priority_queue, (F_cost, nodes[i]))\n",
    "\n",
    "    return []"
   ]
  },
  {
   "cell_type": "code",
   "execution_count": null,
   "metadata": {},
   "outputs": [],
   "source": [
    "# leer matriz de adyacencia de un .txt\n",
    "def read_adjacency_matrix(file_path):\n",
    "    adjacency_matrix = []\n",
    "    with open(file_path, 'r') as file:\n",
    "        for line in file:\n",
    "            if line.strip():\n",
    "                row = list(map(float, line.split()))\n",
    "                adjacency_matrix.append(row)\n",
    "    return adjacency_matrix"
   ]
  },
  {
   "cell_type": "code",
   "execution_count": null,
   "metadata": {},
   "outputs": [],
   "source": [
    "# leer las coordenadas X Y del archivo .txt\n",
    "def read_nodes(file_path):\n",
    "    nodes = []\n",
    "    with open(file_path, 'r') as file:\n",
    "        is_parsing_nodes = False\n",
    "        for line in file:\n",
    "            stripped_line = line.strip()\n",
    "            if stripped_line.startswith(\"# Nodes:\"):\n",
    "                is_parsing_nodes = True\n",
    "            elif stripped_line.startswith(\"# Edges:\"):\n",
    "                is_parsing_nodes = False\n",
    "            elif is_parsing_nodes and stripped_line:\n",
    "                data = list(map(float, stripped_line.split()))\n",
    "                tag, x, y = int(data[0]), data[1], data[2]\n",
    "                node = Node(tag=tag, D=999, H=0, x=x, y=y)\n",
    "                nodes.append(node)\n",
    "    return nodes"
   ]
  },
  {
   "cell_type": "code",
   "execution_count": null,
   "metadata": {},
   "outputs": [],
   "source": [
    "# escribe la matriz de adyacencia resultante en un .txt\n",
    "def write_adjacency_matrix_to_file(adjacency_matrix, file_path):\n",
    "    with open(file_path, 'w') as file:\n",
    "        for row in adjacency_matrix:\n",
    "            file.write(' '.join(map(str, row)) + '\\n')"
   ]
  },
  {
   "cell_type": "markdown",
   "metadata": {},
   "source": [
    "# Leectura de los archivos"
   ]
  },
  {
   "cell_type": "code",
   "execution_count": 203,
   "metadata": {},
   "outputs": [],
   "source": [
    "adjacency_matrix = read_adjacency_matrix('graph5.txt')\n",
    "nodes = read_nodes('coordinates5.txt')"
   ]
  },
  {
   "cell_type": "markdown",
   "metadata": {},
   "source": [
    "# Ejecución de A* y escritura de matriz de adyacencia"
   ]
  },
  {
   "cell_type": "code",
   "execution_count": 204,
   "metadata": {},
   "outputs": [],
   "source": [
    "a_star_adj_matrix = a_star(adjacency_matrix, 0, 5, nodes)\n",
    "write_adjacency_matrix_to_file(a_star_adj_matrix, 'graph5A.txt')"
   ]
  }
 ],
 "metadata": {
  "kernelspec": {
   "display_name": "Python 3",
   "language": "python",
   "name": "python3"
  },
  "language_info": {
   "codemirror_mode": {
    "name": "ipython",
    "version": 3
   },
   "file_extension": ".py",
   "mimetype": "text/x-python",
   "name": "python",
   "nbconvert_exporter": "python",
   "pygments_lexer": "ipython3",
   "version": "3.10.2"
  }
 },
 "nbformat": 4,
 "nbformat_minor": 2
}
