{
 "cells": [
  {
   "cell_type": "code",
   "execution_count": 10,
   "metadata": {},
   "outputs": [],
   "source": [
    "def sphere(x):\n",
    "    result = 0\n",
    "    for i in range(1, x + 1, 1):\n",
    "        result = result + (i)**2   \n",
    "    return result     "
   ]
  },
  {
   "cell_type": "code",
   "execution_count": null,
   "metadata": {},
   "outputs": [],
   "source": [
    "import random\n",
    "import math\n",
    "\n",
    "def recocido_simulado(t0, S0, CS, Gmax, function, randomSolution):\n",
    "    t = t0\n",
    "    g = 0\n",
    "\n",
    "    while (g < Gmax):\n",
    "        while (t <= (1*10**-9)):\n",
    "            S = randomSolution()\n",
    "            \n",
    "            delta = function(S) -function(S0)\n",
    "\n",
    "            if (delta < 0):\n",
    "                S0 = S\n",
    "            else:\n",
    "                x = random.random()\n",
    "                \n",
    "                if (x < math.exp(-delta/t)):\n",
    "                    S0 = S\n",
    "            \n",
    "            t = t * CS\n",
    "\n",
    "        g = g + 1\n",
    "\n",
    "    return S0\n"
   ]
  },
  {
   "cell_type": "code",
   "execution_count": null,
   "metadata": {},
   "outputs": [],
   "source": [
    "recocido_simulado()"
   ]
  },
  {
   "cell_type": "code",
   "execution_count": 47,
   "metadata": {},
   "outputs": [
    {
     "name": "stdout",
     "output_type": "stream",
     "text": [
      "Solución óptima encontrada: [2.8298364620573295, 1.1542793717951856, -1.9486377142896334, 4.227701144094828, -2.9321179492517597, -0.26779283860626, -3.909733180129427, 3.118372103582134, 2.983906841021412, -3.593760816206279]\n",
      "Valor de la función objetivo: 86.50908480440503\n"
     ]
    }
   ],
   "source": [
    "import random\n",
    "import math\n",
    "\n",
    "def randomSolution(n, r):\n",
    "    # Genera una solución aleatoria: un vector de n elementos en el rango [-r, r]\n",
    "    return [random.uniform(-r, r) for _ in range(n)]\n",
    "\n",
    "def recocido_simulado(t0, S0, CS, Gmax, function, randomSolution, n, r):\n",
    "    t = t0\n",
    "    g = 0\n",
    "\n",
    "    while g < Gmax:\n",
    "        while t > 1e-9:\n",
    "            S = randomSolution(n, r)  # Genera una nueva solución aleatoria\n",
    "            delta = function(S) - function(S0)\n",
    "\n",
    "            if delta < 0:\n",
    "                S0 = S\n",
    "            else:\n",
    "                x = random.random()\n",
    "                if x < math.exp(-delta / t):\n",
    "                    S0 = S\n",
    "\n",
    "            t = t * CS  # Reducir la temperatura\n",
    "\n",
    "        g += 1\n",
    "\n",
    "    return S0\n",
    "\n",
    "def sphere(x):\n",
    "    # Calcula la suma de los cuadrados de los elementos en el vector x\n",
    "    return sum(i**2 for i in x)\n",
    "\n",
    "# Parámetros\n",
    "t0 = 1000  # Temperatura inicial\n",
    "CS = 0.9  # Factor de enfriamiento\n",
    "Gmax = 100  # Máximo número de generaciones\n",
    "n = 10  # Dimensión del vector\n",
    "r = 10  # Rango de valores en [-r, r]\n",
    "S0 = randomSolution(n, r)  # Solución inicial aleatoria\n",
    "\n",
    "# Llamar a recocido simulado\n",
    "solucion = recocido_simulado(t0, S0, CS, Gmax, sphere, randomSolution, n, r)\n",
    "\n",
    "print(\"Solución óptima encontrada:\", solucion)\n",
    "print(\"Valor de la función objetivo:\", sphere(solucion))\n"
   ]
  }
 ],
 "metadata": {
  "kernelspec": {
   "display_name": "Python 3",
   "language": "python",
   "name": "python3"
  },
  "language_info": {
   "codemirror_mode": {
    "name": "ipython",
    "version": 3
   },
   "file_extension": ".py",
   "mimetype": "text/x-python",
   "name": "python",
   "nbconvert_exporter": "python",
   "pygments_lexer": "ipython3",
   "version": "3.10.2"
  }
 },
 "nbformat": 4,
 "nbformat_minor": 2
}
