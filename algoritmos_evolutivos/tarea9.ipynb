{
 "cells": [
  {
   "cell_type": "code",
   "execution_count": 1,
   "metadata": {},
   "outputs": [],
   "source": [
    "import numpy as np\n",
    "import sympy as sp"
   ]
  },
  {
   "cell_type": "code",
   "execution_count": null,
   "metadata": {},
   "outputs": [
    {
     "name": "stdout",
     "output_type": "stream",
     "text": [
      "Gradient at the point {x: 1, y: 2} : {x: 2.00000000000000, y: 4.00000000000000}\n"
     ]
    }
   ],
   "source": [
    "def calculate_gradient(f, vars_dict):\n",
    "    # Get symbols for variables\n",
    "    variables = list(vars_dict.keys())\n",
    "    \n",
    "    # Compute gradient by differentiating with respect to each variable\n",
    "    gradient = [sp.diff(f, var) for var in variables]\n",
    "    \n",
    "    # Substitute point values and evaluate gradient\n",
    "    gradient_at_point = [grad.evalf(subs=vars_dict) for grad in gradient]\n",
    "    \n",
    "    return dict(zip(variables, gradient_at_point))\n",
    "\n",
    "# Define symbols (variables) and function\n",
    "x, y = sp.symbols('x y')\n",
    "f = x**2 + y**2  # Example function f(x, y) = x^2 + y^2\n",
    "\n",
    "# Define the point where we want to calculate the gradient\n",
    "point = {x: 1, y: 2}\n",
    "\n",
    "# Calculate the gradient at the point\n",
    "gradient_at_point = calculate_gradient(f, point)\n",
    "print(\"Gradient at the point\", point, \":\", gradient_at_point)\n"
   ]
  },
  {
   "cell_type": "code",
   "execution_count": null,
   "metadata": {},
   "outputs": [],
   "source": [
    "def grad_desc(f, alpha, x0):\n",
    "    epsilon = 1 * 10**-4\n",
    "    k = 0\n",
    "    while np.linalg.norm(calculate_gradient(f, x0)) > epsilon:\n",
    "        x = x - alpha * calculate_gradient(x)\n",
    "\n",
    "        for i in range(1, n):\n",
    "            if ()\n"
   ]
  },
  {
   "cell_type": "code",
   "execution_count": null,
   "metadata": {},
   "outputs": [],
   "source": [
    "def ES1PLUS1():"
   ]
  }
 ],
 "metadata": {
  "kernelspec": {
   "display_name": "Python 3",
   "language": "python",
   "name": "python3"
  },
  "language_info": {
   "codemirror_mode": {
    "name": "ipython",
    "version": 3
   },
   "file_extension": ".py",
   "mimetype": "text/x-python",
   "name": "python",
   "nbconvert_exporter": "python",
   "pygments_lexer": "ipython3",
   "version": "3.10.2"
  }
 },
 "nbformat": 4,
 "nbformat_minor": 2
}
