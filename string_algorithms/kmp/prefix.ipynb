{
 "cells": [
  {
   "cell_type": "code",
   "execution_count": 1,
   "metadata": {},
   "outputs": [
    {
     "name": "stdout",
     "output_type": "stream",
     "text": [
      "Prefix Table for pattern 'aabaacb': [0, 1, 0, 1, 2, 0, 0]\n"
     ]
    }
   ],
   "source": [
    "def compute_kmp_prefix_table(pattern):\n",
    "    # Create a list to hold the prefix table\n",
    "    prefix_table = [0] * len(pattern)\n",
    "    j = 0  # Length of the previous longest prefix suffix\n",
    "\n",
    "    # Start from the second character in the pattern\n",
    "    for i in range(1, len(pattern)):\n",
    "        # If the current character doesn't match the character at position j,\n",
    "        # we shorten j to the last known matching prefix suffix\n",
    "        while j > 0 and pattern[i] != pattern[j]:\n",
    "            j = prefix_table[j - 1]\n",
    "\n",
    "        # If the current character matches the character at position j, we extend the match\n",
    "        if pattern[i] == pattern[j]:\n",
    "            j += 1\n",
    "\n",
    "        # Update the prefix table for the current position\n",
    "        prefix_table[i] = j\n",
    "\n",
    "    return prefix_table\n",
    "\n",
    "# Example usage\n",
    "pattern = \"aabaacb\"\n",
    "prefix_table = compute_kmp_prefix_table(pattern)\n",
    "print(f\"Prefix Table for pattern '{pattern}': {prefix_table}\")\n"
   ]
  }
 ],
 "metadata": {
  "kernelspec": {
   "display_name": "Python 3",
   "language": "python",
   "name": "python3"
  },
  "language_info": {
   "codemirror_mode": {
    "name": "ipython",
    "version": 3
   },
   "file_extension": ".py",
   "mimetype": "text/x-python",
   "name": "python",
   "nbconvert_exporter": "python",
   "pygments_lexer": "ipython3",
   "version": "3.10.2"
  }
 },
 "nbformat": 4,
 "nbformat_minor": 2
}
