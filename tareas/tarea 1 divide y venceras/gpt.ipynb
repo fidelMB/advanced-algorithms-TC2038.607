{
 "cells": [
  {
   "cell_type": "code",
   "execution_count": 1,
   "metadata": {},
   "outputs": [
    {
     "name": "stdout",
     "output_type": "stream",
     "text": [
      "Subconjunto resultante: [[ 1  2]\n",
      " [ 7  8]\n",
      " [ 9 10]]\n"
     ]
    }
   ],
   "source": [
    "import numpy as np\n",
    "\n",
    "def distancia_euclidiana(a, b):\n",
    "    return np.linalg.norm(a - b)\n",
    "\n",
    "def U(S, alpha=2):\n",
    "    U_value = 0\n",
    "    for i in range(len(S)):\n",
    "        for j in range(len(S)):\n",
    "            if i != j:\n",
    "                U_value += distancia_euclidiana(S[i], S[j]) ** alpha\n",
    "    return U_value\n",
    "\n",
    "def algoritmo_avaro(A, n, alpha=2):\n",
    "    A = np.array(A)\n",
    "    while len(A) > n:\n",
    "        # Calcular la contribución de cada punto\n",
    "        contribuciones = []\n",
    "        for i in range(len(A)):\n",
    "            A_sin_i = np.delete(A, i, axis=0)\n",
    "            contribucion = U(A) - U(A_sin_i)\n",
    "            contribuciones.append(contribucion)\n",
    "        \n",
    "        # Encontrar el punto con la menor contribución y eliminarlo\n",
    "        indice_min = np.argmin(contribuciones)\n",
    "        A = np.delete(A, indice_min, axis=0)\n",
    "    \n",
    "    return A\n",
    "\n",
    "# Ejemplo de uso\n",
    "A = [\n",
    "    [1, 2], \n",
    "    [3, 4], \n",
    "    [5, 6], \n",
    "    [7, 8], \n",
    "    [9, 10]\n",
    "]\n",
    "n = 3\n",
    "alpha = 2\n",
    "resultado = algoritmo_avaro(A, n, alpha)\n",
    "print(\"Subconjunto resultante:\", resultado)\n"
   ]
  },
  {
   "cell_type": "code",
   "execution_count": 5,
   "metadata": {},
   "outputs": [
    {
     "name": "stdout",
     "output_type": "stream",
     "text": [
      "Subconjunto resultante: [[9.983411e-01 6.635602e-03]\n",
      " [9.991938e-01 3.224850e-03]\n",
      " [1.215186e-02 3.951393e+00]\n",
      " [9.993770e-01 2.491829e-03]\n",
      " [2.809827e-02 3.887607e+00]\n",
      " [9.966479e-01 1.340836e-02]\n",
      " [3.049289e-02 3.878028e+00]\n",
      " [5.337308e-02 3.786508e+00]\n",
      " [3.285527e-03 3.986858e+00]\n",
      " [3.818296e-02 3.847268e+00]\n",
      " [2.010495e-02 3.919580e+00]\n",
      " [3.491227e-03 3.986035e+00]\n",
      " [9.988326e-01 4.669482e-03]\n",
      " [2.791164e-02 3.888353e+00]\n",
      " [1.827846e-03 3.992689e+00]\n",
      " [1.185822e-03 3.995257e+00]\n",
      " [9.999924e-01 3.039020e-05]\n",
      " [3.722242e-02 3.851110e+00]\n",
      " [9.978678e-01 8.528986e-03]\n",
      " [3.979093e-02 3.840836e+00]\n",
      " [9.991359e-01 3.456415e-03]\n",
      " [3.946411e-02 3.842144e+00]\n",
      " [9.999681e-01 1.274397e-04]\n",
      " [2.235827e-02 3.910567e+00]\n",
      " [9.984520e-01 6.192112e-03]\n",
      " [9.997202e-01 1.119281e-03]\n",
      " [9.999407e-01 2.370546e-04]\n",
      " [9.967505e-01 1.299784e-02]\n",
      " [3.818959e-02 3.847242e+00]\n",
      " [9.979987e-01 8.005392e-03]\n",
      " [9.964310e-01 1.427612e-02]\n",
      " [2.218660e-02 3.911254e+00]\n",
      " [3.979657e-02 3.840814e+00]\n",
      " [9.991199e-01 3.520327e-03]\n",
      " [9.981415e-01 7.434150e-03]\n",
      " [9.985188e-01 5.924701e-03]\n",
      " [1.986812e-02 3.920528e+00]\n",
      " [1.655926e-02 3.933763e+00]\n",
      " [9.994961e-01 2.015715e-03]\n",
      " [9.979776e-01 8.089654e-03]\n",
      " [2.980281e-02 3.880789e+00]\n",
      " [2.358271e-02 3.905669e+00]\n",
      " [4.092457e-02 3.836302e+00]\n",
      " [4.390068e-03 3.982440e+00]\n",
      " [9.999029e-01 3.884309e-04]\n",
      " [9.973096e-01 1.076156e-02]\n",
      " [1.082856e-02 3.956686e+00]\n",
      " [9.994858e-01 2.056738e-03]\n",
      " [9.991162e-01 3.535333e-03]\n",
      " [1.236280e-03 3.995055e+00]\n",
      " [9.993175e-01 2.729970e-03]\n",
      " [3.816170e-02 3.847353e+00]\n",
      " [9.984742e-01 6.103224e-03]\n",
      " [3.029028e-02 3.878839e+00]\n",
      " [7.413833e-03 3.970345e+00]\n",
      " [2.769004e-02 3.889240e+00]\n",
      " [9.994117e-01 2.353095e-03]\n",
      " [9.980404e-01 7.838325e-03]\n",
      " [4.064123e-02 3.837435e+00]\n",
      " [2.811909e-02 3.887524e+00]\n",
      " [9.959052e-01 1.637930e-02]\n",
      " [9.999273e-01 2.909780e-04]\n",
      " [3.114324e-02 3.875427e+00]\n",
      " [9.992623e-01 2.950937e-03]\n",
      " [9.969032e-01 1.238732e-02]\n",
      " [9.997065e-01 1.174024e-03]\n",
      " [4.889087e-02 3.804437e+00]\n",
      " [9.969559e-01 1.217637e-02]\n",
      " [4.752217e-02 3.809911e+00]\n",
      " [3.058390e-02 3.877664e+00]\n",
      " [9.999405e-01 2.379670e-04]\n",
      " [9.978821e-01 8.471663e-03]\n",
      " [4.899247e-03 3.980403e+00]\n",
      " [9.999988e-01 4.758433e-06]\n",
      " [5.950170e-03 3.976199e+00]\n",
      " [9.998328e-01 6.687136e-04]\n",
      " [9.959932e-01 1.602739e-02]\n",
      " [9.970468e-01 1.181287e-02]\n",
      " [3.148943e-02 3.874042e+00]\n",
      " [9.976772e-01 9.291229e-03]\n",
      " [2.928385e-02 3.882865e+00]\n",
      " [5.047564e-02 3.798097e+00]\n",
      " [9.974121e-01 1.035179e-02]\n",
      " [9.967941e-01 1.282346e-02]\n",
      " [9.999999e-01 4.860444e-07]\n",
      " [4.521329e-02 3.819147e+00]\n",
      " [3.482551e-02 3.860698e+00]\n",
      " [4.467057e-02 3.821318e+00]\n",
      " [9.960501e-01 1.579963e-02]\n",
      " [9.966379e-01 1.344840e-02]\n",
      " [9.997159e-01 1.136318e-03]\n",
      " [3.124560e-02 3.875018e+00]\n",
      " [1.862832e-02 3.925487e+00]\n",
      " [2.177504e-02 3.912900e+00]\n",
      " [9.965262e-01 1.389514e-02]\n",
      " [8.686126e-03 3.965255e+00]\n",
      " [1.039988e-03 3.995840e+00]\n",
      " [9.994765e-01 2.094029e-03]\n",
      " [9.982308e-01 7.076741e-03]\n",
      " [9.999745e-01 1.021146e-04]]\n",
      "Tamaño del subconjunto resultante: 100\n"
     ]
    }
   ],
   "source": [
    "import numpy as np\n",
    "\n",
    "def distancia_euclidiana(a, b):\n",
    "    return np.linalg.norm(a - b)\n",
    "\n",
    "def U_incremental(A, alpha=2):\n",
    "    m = len(A)\n",
    "    matriz_distancias = np.zeros((m, m))\n",
    "    \n",
    "    # Calcula todas las distancias entre puntos y la suma inicial de U(A)\n",
    "    U_value = 0\n",
    "    for i in range(m):\n",
    "        for j in range(i + 1, m):\n",
    "            d = distancia_euclidiana(A[i], A[j])\n",
    "            matriz_distancias[i][j] = d ** alpha\n",
    "            U_value += matriz_distancias[i][j]\n",
    "    \n",
    "    return U_value, matriz_distancias\n",
    "\n",
    "def algoritmo_avaro(A, n, alpha=2):\n",
    "    A = np.array(A)\n",
    "    U_value, matriz_distancias = U_incremental(A, alpha)\n",
    "    \n",
    "    while len(A) > n:\n",
    "        # Calcular la contribución de cada punto de forma incremental\n",
    "        contribuciones = []\n",
    "        for i in range(len(A)):\n",
    "            contribucion = 0\n",
    "            for j in range(len(A)):\n",
    "                if i != j:\n",
    "                    contribucion += matriz_distancias[min(i, j)][max(i, j)]\n",
    "            contribuciones.append(contribucion)\n",
    "        \n",
    "        # Encontrar el punto con la menor contribución y eliminarlo\n",
    "        indice_min = np.argmin(contribuciones)\n",
    "        A = np.delete(A, indice_min, axis=0)\n",
    "        matriz_distancias = np.delete(matriz_distancias, indice_min, axis=0)\n",
    "        matriz_distancias = np.delete(matriz_distancias, indice_min, axis=1)\n",
    "    \n",
    "    return A\n",
    "\n",
    "# Ejemplo de uso\n",
    "A = np.loadtxt('ZCAT1_1000_02D.pof')\n",
    "n = 100\n",
    "alpha = 2\n",
    "resultado = algoritmo_avaro(A, n, alpha)\n",
    "print(\"Subconjunto resultante:\", resultado)\n",
    "print(\"Tamaño del subconjunto resultante:\", len(resultado))\n"
   ]
  },
  {
   "cell_type": "code",
   "execution_count": 6,
   "metadata": {},
   "outputs": [
    {
     "data": {
      "text/plain": [
       "<matplotlib.collections.PathCollection at 0x1d0fdf6d750>"
      ]
     },
     "execution_count": 6,
     "metadata": {},
     "output_type": "execute_result"
    },
    {
     "data": {
      "image/png": "[encoded data removed]",
      "text/plain": [
       "<Figure size 640x480 with 1 Axes>"
      ]
     },
     "metadata": {},
     "output_type": "display_data"
    }
   ],
   "source": [
    "import matplotlib.pyplot as plt\n",
    "plt.scatter(A[:, 0], A[:, 1], s=1)"
   ]
  },
  {
   "cell_type": "code",
   "execution_count": 7,
   "metadata": {},
   "outputs": [
    {
     "data": {
      "text/plain": [
       "<matplotlib.collections.PathCollection at 0x1d0fe978d90>"
      ]
     },
     "execution_count": 7,
     "metadata": {},
     "output_type": "execute_result"
    },
    {
     "data": {
      "image/png": "[encoded data removed]",
      "text/plain": [
       "<Figure size 640x480 with 1 Axes>"
      ]
     },
     "metadata": {},
     "output_type": "display_data"
    }
   ],
   "source": [
    "plt.scatter(resultado[:, 0], resultado[:, 1], s=1, color='red')"
   ]
  }
 ],
 "metadata": {
  "kernelspec": {
   "display_name": "Python 3",
   "language": "python",
   "name": "python3"
  },
  "language_info": {
   "codemirror_mode": {
    "name": "ipython",
    "version": 3
   },
   "file_extension": ".py",
   "mimetype": "text/x-python",
   "name": "python",
   "nbconvert_exporter": "python",
   "pygments_lexer": "ipython3",
   "version": "3.11.1"
  }
 },
 "nbformat": 4,
 "nbformat_minor": 2
}
