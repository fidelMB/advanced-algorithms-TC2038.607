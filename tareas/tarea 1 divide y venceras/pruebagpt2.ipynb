{
 "cells": [
  {
   "cell_type": "code",
   "execution_count": 6,
   "metadata": {},
   "outputs": [],
   "source": [
    "import numpy as np\n",
    "import matplotlib.pyplot as plt\n",
    "\n",
    "def U(A, alpha):\n",
    "    # Vectorized distance computation for all pairs\n",
    "    dist_matrix = np.linalg.norm(A[:, np.newaxis] - A, axis=2)\n",
    "    # Avoid division by zero by filling the diagonal with inf\n",
    "    np.fill_diagonal(dist_matrix, np.inf)\n",
    "    u = np.sum(1 / dist_matrix**alpha)\n",
    "    return u\n",
    "\n",
    "def C(a, A, alpha, U_value, dist_matrix):\n",
    "    # Calculate C(a) by subtracting the contribution of the a-th row/column\n",
    "    dist_a = dist_matrix[a, :]\n",
    "    dist_a[a] = np.inf  # To avoid self-distance\n",
    "    c = U_value - np.sum(1 / dist_a**alpha)\n",
    "    return c\n",
    "\n",
    "def getSstar(A, alpha, n):\n",
    "    Sstar = A.copy()\n",
    "    while len(Sstar) > n:\n",
    "        U_value = U(Sstar, alpha)\n",
    "        dist_matrix = np.linalg.norm(Sstar[:, np.newaxis] - Sstar, axis=2)\n",
    "        np.fill_diagonal(dist_matrix, np.inf)\n",
    "        \n",
    "        c_values = np.array([C(i, Sstar, alpha, U_value, dist_matrix) for i in range(len(Sstar))])\n",
    "\n",
    "        index_max_value = np.argmax(c_values)\n",
    "        Sstar = np.delete(Sstar, index_max_value, axis=0)\n",
    "\n",
    "    return Sstar\n"
   ]
  },
  {
   "cell_type": "code",
   "execution_count": 2,
   "metadata": {},
   "outputs": [],
   "source": [
    "alpha = 0.7\n",
    "A = np.loadtxt('ZCAT1_1000_02D.pof')\n",
    "n = 100\n",
    "\n",
    "Sstar = getSstar(A, alpha, n)"
   ]
  },
  {
   "cell_type": "code",
   "execution_count": 4,
   "metadata": {},
   "outputs": [
    {
     "data": {
      "text/plain": [
       "100"
      ]
     },
     "execution_count": 4,
     "metadata": {},
     "output_type": "execute_result"
    }
   ],
   "source": [
    "len(Sstar)"
   ]
  },
  {
   "cell_type": "code",
   "execution_count": 7,
   "metadata": {},
   "outputs": [
    {
     "data": {
      "text/plain": [
       "<matplotlib.collections.PathCollection at 0x1f185378bd0>"
      ]
     },
     "execution_count": 7,
     "metadata": {},
     "output_type": "execute_result"
    },
    {
     "data": {
      "image/png": "[encoded data removed]",
      "text/plain": [
       "<Figure size 640x480 with 1 Axes>"
      ]
     },
     "metadata": {},
     "output_type": "display_data"
    }
   ],
   "source": [
    "plt.scatter(Sstar[:, 0], Sstar[:, 1])"
   ]
  }
 ],
 "metadata": {
  "kernelspec": {
   "display_name": "Python 3",
   "language": "python",
   "name": "python3"
  },
  "language_info": {
   "codemirror_mode": {
    "name": "ipython",
    "version": 3
   },
   "file_extension": ".py",
   "mimetype": "text/x-python",
   "name": "python",
   "nbconvert_exporter": "python",
   "pygments_lexer": "ipython3",
   "version": "3.11.1"
  }
 },
 "nbformat": 4,
 "nbformat_minor": 2
}
