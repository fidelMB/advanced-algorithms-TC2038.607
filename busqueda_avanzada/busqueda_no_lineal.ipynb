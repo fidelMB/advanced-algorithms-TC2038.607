{
 "cells": [
  {
   "cell_type": "code",
   "execution_count": 1,
   "metadata": {},
   "outputs": [
    {
     "name": "stdout",
     "output_type": "stream",
     "text": [
      "Optimized variables: [2.99315535e-06 2.99315535e-06]\n",
      "Objective function value at optimum: 1.7917957937422448e-11\n"
     ]
    }
   ],
   "source": [
    "import numpy as np\n",
    "\n",
    "def gradient_descent(f, grad_f, x_init, learning_rate=0.01, max_iter=1000, tol=1e-6):\n",
    "    \"\"\"\n",
    "    Gradient Descent Algorithm for Non-linear Optimization\n",
    "\n",
    "    Parameters:\n",
    "    f : function\n",
    "        The objective function to minimize.\n",
    "    grad_f : function\n",
    "        The gradient of the objective function.\n",
    "    x_init : numpy array\n",
    "        Initial guess for the variables.\n",
    "    learning_rate : float\n",
    "        Step size for each iteration.\n",
    "    max_iter : int\n",
    "        Maximum number of iterations.\n",
    "    tol : float\n",
    "        Tolerance for stopping criterion.\n",
    "\n",
    "    Returns:\n",
    "    x_opt : numpy array\n",
    "        The optimized variables.\n",
    "    f_opt : float\n",
    "        The value of the objective function at the optimum.\n",
    "    \"\"\"\n",
    "    x = x_init\n",
    "    for i in range(max_iter):\n",
    "        grad = grad_f(x)\n",
    "        x_new = x - learning_rate * grad\n",
    "        if np.linalg.norm(x_new - x) < tol:\n",
    "            break\n",
    "        x = x_new\n",
    "    x_opt = x\n",
    "    f_opt = f(x_opt)\n",
    "    return x_opt, f_opt\n",
    "\n",
    "# Example usage\n",
    "def f(x):\n",
    "    return x[0]**2 + x[1]**2\n",
    "\n",
    "def grad_f(x):\n",
    "    return np.array([2*x[0], 2*x[1]])\n",
    "\n",
    "x_init = np.array([1.0, 1.0])\n",
    "learning_rate = 0.1\n",
    "max_iter = 1000\n",
    "tol = 1e-6\n",
    "\n",
    "x_opt, f_opt = gradient_descent(f, grad_f, x_init, learning_rate, max_iter, tol)\n",
    "print(\"Optimized variables:\", x_opt)\n",
    "print(\"Objective function value at optimum:\", f_opt)"
   ]
  }
 ],
 "metadata": {
  "kernelspec": {
   "display_name": "Python 3",
   "language": "python",
   "name": "python3"
  },
  "language_info": {
   "codemirror_mode": {
    "name": "ipython",
    "version": 3
   },
   "file_extension": ".py",
   "mimetype": "text/x-python",
   "name": "python",
   "nbconvert_exporter": "python",
   "pygments_lexer": "ipython3",
   "version": "3.10.2"
  }
 },
 "nbformat": 4,
 "nbformat_minor": 2
}
